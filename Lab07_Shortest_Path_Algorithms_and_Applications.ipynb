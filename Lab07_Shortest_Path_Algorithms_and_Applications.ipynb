{
  "nbformat": 4,
  "nbformat_minor": 0,
  "metadata": {
    "colab": {
      "provenance": []
    },
    "kernelspec": {
      "name": "python3",
      "display_name": "Python 3"
    },
    "language_info": {
      "name": "python"
    }
  },
  "cells": [
    {
      "cell_type": "code",
      "execution_count": null,
      "metadata": {
        "colab": {
          "base_uri": "https://localhost:8080/"
        },
        "id": "9YF0JnwcX1qY",
        "outputId": "a928c61b-f85d-4d28-f6cd-ff874729ce62"
      },
      "outputs": [
        {
          "output_type": "stream",
          "name": "stdout",
          "text": [
            "2 1 2 1\n",
            "2\n",
            "1\n",
            "7\n",
            "7\n",
            "2 1\n"
          ]
        }
      ],
      "source": [
        "#TASK-1\n",
        "n,m,s,d=map(int,input().split())\n",
        "u=list(map(int,input().split()))\n",
        "v=list(map(int,input().split()))\n",
        "w=list(map(int,input().split()))\n",
        "g=[[]for _ in range(n+1)]\n",
        "for i in range(m):g[u[i]].append((v[i],w[i]))\n",
        "dist=[10**18]*(n+1)\n",
        "par=[-1]*(n+1)\n",
        "vis=[0]*(n+1)\n",
        "q=[]\n",
        "q.append((0,s))\n",
        "while q:\n",
        " i=0\n",
        " for j in range(1,len(q)):\n",
        "  if q[j][0]<q[i][0]:i=j\n",
        " q[i],q[-1]=q[-1],q[i]\n",
        " x,y=q.pop()\n",
        " if vis[y]:continue\n",
        " vis[y]=1\n",
        " dist[y]=x\n",
        " for z,c in g[y]:\n",
        "  if not vis[z]and x+c<dist[z]:\n",
        "   dist[z]=x+c\n",
        "   par[z]=y\n",
        "   q.append((dist[z],z))\n",
        "if dist[d]==10**18:print(-1)\n",
        "else:\n",
        " print(dist[d])\n",
        " a=[]\n",
        " while d!=-1:\n",
        "  a.append(d)\n",
        "  d=par[d]\n",
        " print(*a[::-1])\n"
      ]
    },
    {
      "cell_type": "code",
      "source": [
        "#task-4\n",
        "import heapq\n",
        "n,m,s,d=map(int,input().split())\n",
        "w=list(map(int,input().split()))\n",
        "g={}\n",
        "for i in range(m):\n",
        " a,b=map(int,input().split())\n",
        " if a not in g:g[a]=[]\n",
        " g[a].append(b)\n",
        "v=[10**18]*(n+1)\n",
        "v[s]=w[s-1]\n",
        "h=[(v[s],s)]\n",
        "while h:\n",
        " x,y=heapq.heappop(h)\n",
        " if x<=v[y]:\n",
        "  if y in g:\n",
        "   for z in g[y]:\n",
        "    if v[y]+w[z-1]<v[z]:\n",
        "     v[z]=v[y]+w[z-1]\n",
        "     heapq.heappush(h,(v[z],z))\n",
        "print(v[d]if v[d]<10**18else-1)\n"
      ],
      "metadata": {
        "colab": {
          "base_uri": "https://localhost:8080/"
        },
        "id": "ND5kF_4faWSi",
        "outputId": "14c8fe84-b7f4-4d5d-c796-8158466cb940"
      },
      "execution_count": null,
      "outputs": [
        {
          "output_type": "stream",
          "name": "stderr",
          "text": [
            "<>:19: SyntaxWarning: invalid decimal literal\n",
            "<>:19: SyntaxWarning: invalid decimal literal\n",
            "<ipython-input-2-386e64d46339>:19: SyntaxWarning: invalid decimal literal\n",
            "  print(v[d]if v[d]<10**18else-1)\n"
          ]
        },
        {
          "output_type": "stream",
          "name": "stdout",
          "text": [
            "2 1 1 1\n",
            "7 6\n",
            "2 1\n",
            "7\n"
          ]
        }
      ]
    },
    {
      "cell_type": "code",
      "source": [
        "#task-2\n",
        "import heapq\n",
        "n,m,s,t=map(int,input().split())\n",
        "g=[[]for i in range(n+1)]\n",
        "for i in range(m):\n",
        " a,b,c=map(int,input().split())\n",
        " g[a].append((b,c))\n",
        "def d(start):\n",
        " v=[10**18]*(n+1)\n",
        " v[start]=0\n",
        " h=[(0,start)]\n",
        " while h:\n",
        "  x,y=heapq.heappop(h)\n",
        "  if x<=v[y]:\n",
        "   for z,w in g[y]:\n",
        "    if v[y]+w<v[z]:\n",
        "     v[z]=v[y]+w\n",
        "     heapq.heappush(h,(v[z],z))\n",
        " return v\n",
        "va=d(s)\n",
        "vb=d(t)\n",
        "r=10**18\n",
        "u=-1\n",
        "for i in range(1,n+1):\n",
        " x=max(va[i],vb[i])\n",
        " if x<r:r=x;u=i\n",
        "if r<10**18:\n",
        " print(r,u)\n",
        "else:\n",
        " print(-1)\n"
      ],
      "metadata": {
        "id": "IHHED-vEX-ht"
      },
      "execution_count": null,
      "outputs": []
    },
    {
      "cell_type": "code",
      "source": [
        "#task-5\n",
        "import heapq\n",
        "n,m=map(int,input().split())\n",
        "g=[[]for i in range(n+1)]\n",
        "u=list(map(int,input().split()))\n",
        "v=list(map(int,input().split()))\n",
        "w=list(map(int,input().split()))\n",
        "for i in range(m):\n",
        "    g[u[i]].append((v[i],w[i]))\n",
        "d=[[10**18]*2 for i in range(n+1)]\n",
        "d[1][0]=0\n",
        "d[1][1]=0\n",
        "h=[(0,1,-1)]\n",
        "while h:\n",
        "    x,y,p=heapq.heappop(h)\n",
        "    bad=False\n",
        "    if p!=-1:\n",
        "        if x>d[y][p%2]:\n",
        "            bad=True\n",
        "    if not bad:\n",
        "        for z,w in g[y]:\n",
        "            q=w%2\n",
        "            if q!=p:\n",
        "                if x+w<d[z][q]:\n",
        "                    d[z][q]=x+w\n",
        "                    heapq.heappush(h,(x+w,z,q))\n",
        "a=min(d[n][0],d[n][1])\n",
        "if a<10**18:\n",
        "    print(a)\n",
        "else:\n",
        "    print(-1)\n"
      ],
      "metadata": {
        "colab": {
          "base_uri": "https://localhost:8080/"
        },
        "id": "YkFiviBB-qAY",
        "outputId": "e4a07345-111d-4b1b-c50b-20b8a31ef676"
      },
      "execution_count": null,
      "outputs": [
        {
          "output_type": "stream",
          "name": "stdout",
          "text": [
            "2 1\n",
            "2 \n",
            "1 \n",
            "7 \n",
            "-1\n"
          ]
        }
      ]
    },
    {
      "cell_type": "code",
      "source": [
        "#task-6\n",
        "import heapq\n",
        "n,m,s,d=map(int,input().split())\n",
        "g=[[]for i in range(n+1)]\n",
        "for i in range(m):a,b,w=map(int,input().split());g[a].append((b,w));g[b].append((a,w))\n",
        "dist=[[1e18,1e18]for _ in range(n+1)]\n",
        "dist[s][0]=0\n",
        "h=[(0,s)]\n",
        "while h:\n",
        " c,u=heapq.heappop(h)\n",
        " for v,w in g[u]:\n",
        "  nc=c+w\n",
        "  if nc<dist[v][0]:\n",
        "   dist[v][1]=dist[v][0]\n",
        "   dist[v][0]=nc\n",
        "   heapq.heappush(h,(nc,v))\n",
        "  elif dist[v][0]<nc<dist[v][1]:\n",
        "   dist[v][1]=nc\n",
        "   heapq.heappush(h,(nc,v))\n",
        "if dist[d][1]<1e18:print(dist[d][1])\n",
        "else:print(-1)\n"
      ],
      "metadata": {
        "id": "XDN5QneYEdP7"
      },
      "execution_count": null,
      "outputs": []
    },
    {
      "cell_type": "code",
      "source": [
        "#task -3\n",
        "import heapq\n",
        "n,m=map(int,input().split())\n",
        "g=[[]for i in range(n+1)]\n",
        "for i in range(m):\n",
        " a,b,w=map(int,input().split())\n",
        " g[a].append((b,w))\n",
        " g[b].append((a,w))\n",
        "d=[1e9]*(n+1)\n",
        "d[1]=0\n",
        "h=[(0,1)]\n",
        "while h:\n",
        " c,u=heapq.heappop(h)\n",
        " for v,w in g[u]:\n",
        "  danger=max(c,w)\n",
        "  if danger<d[v]:\n",
        "   d[v]=danger\n",
        "   heapq.heappush(h,(danger,v))\n",
        "for i in range(1,n+1):\n",
        " if i==1:\n",
        "  print(0,end=' ')\n",
        " elif d[i]==1e9:\n",
        "  print(-1,end=' ')\n",
        " else:\n",
        "  print(d[i],end=' ')\n"
      ],
      "metadata": {
        "id": "knGmhf3gNidw"
      },
      "execution_count": null,
      "outputs": []
    }
  ]
}
