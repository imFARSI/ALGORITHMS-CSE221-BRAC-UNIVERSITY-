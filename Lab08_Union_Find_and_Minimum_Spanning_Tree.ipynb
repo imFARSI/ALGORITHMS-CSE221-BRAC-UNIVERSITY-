{
  "nbformat": 4,
  "nbformat_minor": 0,
  "metadata": {
    "colab": {
      "provenance": []
    },
    "kernelspec": {
      "name": "python3",
      "display_name": "Python 3"
    },
    "language_info": {
      "name": "python"
    }
  },
  "cells": [
    {
      "cell_type": "code",
      "execution_count": null,
      "metadata": {
        "colab": {
          "base_uri": "https://localhost:8080/"
        },
        "id": "NPVkkjv4TudV",
        "outputId": "0b6228c5-4676-4565-fe2e-c55b712b8c6b"
      },
      "outputs": [
        {
          "output_type": "stream",
          "name": "stdout",
          "text": [
            "2 1\n",
            "1 2\n",
            "2\n"
          ]
        }
      ],
      "source": [
        "#TASK-1\n",
        "n,k=map(int,input().split())\n",
        "p=[i for i in range(n+1)]\n",
        "sz=[1]*(n+1)\n",
        "def f(x):\n",
        " while x!=p[x]:\n",
        "  p[x]=p[p[x]]\n",
        "  x=p[x]\n",
        " return x\n",
        "def u(x,y):\n",
        " x=f(x)\n",
        " y=f(y)\n",
        " if x!=y:\n",
        "  if sz[x]<sz[y]: x,y=y,x\n",
        "  p[y]=x\n",
        "  sz[x]+=sz[y]\n",
        " return sz[x]\n",
        "for i in range(k):\n",
        " a,b=map(int,input().split())\n",
        " if f(a)!=f(b): print(u(a,b))\n",
        " else: print(sz[f(a)])"
      ]
    },
    {
      "cell_type": "code",
      "source": [
        "#task-2\n",
        "n,m=map(int,input().split())\n",
        "e=[]\n",
        "for i in range(m):\n",
        " u,v,w=map(int,input().split())\n",
        " e.append((w,u,v))\n",
        "e.sort()\n",
        "p=[i for i in range(n+1)]\n",
        "def find(x):\n",
        " while x!=p[x]:\n",
        "  p[x]=p[p[x]]\n",
        "  x=p[x]\n",
        " return x\n",
        "def union(x,y):\n",
        " x=find(x)\n",
        " y=find(y)\n",
        " if x!=y:\n",
        "  p[y]=x\n",
        "  return True\n",
        " return False\n",
        "res=0\n",
        "for w,u,v in e:\n",
        " if                                                                                                                                                                                                    union(u,v): res+=w\n",
        "print(res)\n",
        "\n"
      ],
      "metadata": {
        "colab": {
          "base_uri": "https://localhost:8080/"
        },
        "id": "_bePA0tiGisO",
        "outputId": "dca055fa-3723-4e5c-cfbd-f601b56bd2d5"
      },
      "execution_count": null,
      "outputs": [
        {
          "output_type": "stream",
          "name": "stdout",
          "text": [
            "2 1\n",
            "1 2 9\n",
            "9\n"
          ]
        }
      ]
    }
  ]
}
