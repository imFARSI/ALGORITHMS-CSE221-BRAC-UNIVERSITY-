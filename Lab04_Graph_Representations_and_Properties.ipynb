{
  "nbformat": 4,
  "nbformat_minor": 0,
  "metadata": {
    "colab": {
      "provenance": []
    },
    "kernelspec": {
      "name": "python3",
      "display_name": "Python 3"
    },
    "language_info": {
      "name": "python"
    }
  },
  "cells": [
    {
      "cell_type": "code",
      "execution_count": null,
      "metadata": {
        "colab": {
          "base_uri": "https://localhost:8080/"
        },
        "id": "nLV2tcc6G4n_",
        "outputId": "f72bb254-7ee2-4442-c6c0-353da6746ab2"
      },
      "outputs": [
        {
          "output_type": "stream",
          "name": "stdout",
          "text": [
            "6 7 \n",
            "1 5 6 \n",
            "6 3 5\n",
            "1 3 9\n",
            "3 4 7\n",
            "4 6 1\n",
            "5 6 8\n",
            "6 1 6\n",
            "0 0 9 0 6 0\n",
            "0 0 0 0 0 0\n",
            "0 0 0 7 0 0\n",
            "0 0 0 0 0 1\n",
            "0 0 0 0 0 8\n",
            "6 0 5 0 0 0\n"
          ]
        }
      ],
      "source": [
        "# task1\n",
        "nodes, edges = map(int, input().split())\n",
        "\n",
        "# Initialize the matrix with zeros\n",
        "matrix = [[0 for _ in range(nodes)] for _ in range(nodes)]\n",
        "\n",
        "# Fill the matrix with edge weights\n",
        "for _ in range(edges):\n",
        "    from_node, to_node, weight = map(int, input().split())\n",
        "    matrix[from_node - 1][to_node - 1] = weight\n",
        "\n",
        "# Print the adjacency matrix\n",
        "for row in matrix:\n",
        "    print(' '.join(map(str, row)))\n"
      ]
    },
    {
      "cell_type": "code",
      "source": [
        "#task2\n",
        "nodes,edges=map(int, input().split())\n",
        "s=list(map(int,input().split()))\n",
        "e=list(map(int,input().split()))\n",
        "w=list(map(int,input().split()))\n",
        "a_list=[[] for k in range(nodes)]\n",
        "for i in range(edges):\n",
        "    a_list[s[i]-1].append((e[i],w[i]))\n",
        "for i in range(nodes):\n",
        "    print(f\"{i+1}:\",end='')\n",
        "    for a, b in a_list[i]:\n",
        "        print(f\"({a},{b})\",end='')\n",
        "    print()"
      ],
      "metadata": {
        "colab": {
          "base_uri": "https://localhost:8080/"
        },
        "id": "9I5ykw4zHTdl",
        "outputId": "907beb6d-8141-444d-f03c-f0a63d4e42f2"
      },
      "execution_count": null,
      "outputs": [
        {
          "output_type": "stream",
          "name": "stdout",
          "text": [
            "4 5\n",
            "4 1 4 3 3\n",
            "3 2 2 2 1\n",
            "4 4 10 8 5\n",
            "1: (2,4)\n",
            "2:\n",
            "3: (2,8) (1,5)\n",
            "4: (3,4) (2,10)\n"
          ]
        }
      ]
    },
    {
      "cell_type": "code",
      "source": [
        "#task3\n",
        "n=int(input())\n",
        "matrix=[[0]*n for i in range(n)]\n",
        "for i in range(n):\n",
        "    a=list(map(int, input().split()))\n",
        "    for j in a[1:]:\n",
        "        matrix[i][j]=1\n",
        "for r in matrix:\n",
        "    print(' '.join(map(str, r)))"
      ],
      "metadata": {
        "id": "tQ0dfbUbKhZI"
      },
      "execution_count": null,
      "outputs": []
    },
    {
      "cell_type": "code",
      "source": [
        "#task 4\n",
        "n,m=map(int,input().split())\n",
        "u=list(map(int,input().split()))\n",
        "v=list(map(int,input().split()))\n",
        "deg=[0]*(n+1)\n",
        "for i in range(m):\n",
        "    deg[u[i]]+=1\n",
        "    deg[v[i]]+=1\n",
        "odd=sum(1 for i in deg if i% 2==1)\n",
        "if odd==0 or odd==2:\n",
        "  print(\"Yes\")\n",
        "else:\n",
        "  print('No')"
      ],
      "metadata": {
        "colab": {
          "base_uri": "https://localhost:8080/"
        },
        "id": "X1_OFMADLdQj",
        "outputId": "864d0290-8a58-46df-81b0-20f6dd91a0d2"
      },
      "execution_count": null,
      "outputs": [
        {
          "output_type": "stream",
          "name": "stdout",
          "text": [
            "7 6 \n",
            "3 5 7 6 4 2\n",
            "5 7 6 4 2 1\n",
            "Yes\n"
          ]
        }
      ]
    },
    {
      "cell_type": "code",
      "source": [
        "#task5\n",
        "n,m=map(int,input().split())\n",
        "u=list(map(int,input().split()))\n",
        "v=list(map(int,input().split()))\n",
        "in_degree=[0]*(n+1)\n",
        "out_degree=[0]*(n+1)\n",
        "for i in range(m):\n",
        "    out_degree[u[i]]+=1\n",
        "    in_degree[v[i]]+=1\n",
        "res=[]\n",
        "for i in range(1,n+1):\n",
        "    res.append(in_degree[i]-out_degree[i])\n",
        "print(*res)"
      ],
      "metadata": {
        "id": "OQIqcXYENXSV"
      },
      "execution_count": null,
      "outputs": []
    },
    {
      "cell_type": "code",
      "source": [
        "#task 6\n",
        "s=int(input())\n",
        "r,c=map(int,input().split())\n",
        "possible_m=[(-1,-1),(-1,0),(-1,1),(0,-1),(0,1),(1,-1),(1,0),(1,1)]\n",
        "main=[]\n",
        "for i,j in possible_m:\n",
        "    a=r+i\n",
        "    b=c+j\n",
        "    if 1<=a<=s and 1<=b<=s:\n",
        "        main.append((a,b))\n",
        "main.sort()\n",
        "print(len(main))\n",
        "for a,b in main:\n",
        "    print(a,b)\n"
      ],
      "metadata": {
        "colab": {
          "base_uri": "https://localhost:8080/",
          "height": 375
        },
        "id": "6fsrk8mAPQ9S",
        "outputId": "f8db2f36-f24a-4248-9069-1494ddf95337"
      },
      "execution_count": null,
      "outputs": [
        {
          "output_type": "error",
          "ename": "KeyboardInterrupt",
          "evalue": "Interrupted by user",
          "traceback": [
            "\u001b[0;31m---------------------------------------------------------------------------\u001b[0m",
            "\u001b[0;31mKeyboardInterrupt\u001b[0m                         Traceback (most recent call last)",
            "\u001b[0;32m<ipython-input-4-596d30b66979>\u001b[0m in \u001b[0;36m<cell line: 0>\u001b[0;34m()\u001b[0m\n\u001b[1;32m      1\u001b[0m \u001b[0;31m#task 6\u001b[0m\u001b[0;34m\u001b[0m\u001b[0;34m\u001b[0m\u001b[0m\n\u001b[0;32m----> 2\u001b[0;31m \u001b[0ms\u001b[0m\u001b[0;34m=\u001b[0m\u001b[0mint\u001b[0m\u001b[0;34m(\u001b[0m\u001b[0minput\u001b[0m\u001b[0;34m(\u001b[0m\u001b[0;34m)\u001b[0m\u001b[0;34m)\u001b[0m\u001b[0;34m\u001b[0m\u001b[0;34m\u001b[0m\u001b[0m\n\u001b[0m\u001b[1;32m      3\u001b[0m \u001b[0mr\u001b[0m\u001b[0;34m,\u001b[0m\u001b[0mc\u001b[0m\u001b[0;34m=\u001b[0m\u001b[0mmap\u001b[0m\u001b[0;34m(\u001b[0m\u001b[0mint\u001b[0m\u001b[0;34m,\u001b[0m\u001b[0minput\u001b[0m\u001b[0;34m(\u001b[0m\u001b[0;34m)\u001b[0m\u001b[0;34m.\u001b[0m\u001b[0msplit\u001b[0m\u001b[0;34m(\u001b[0m\u001b[0;34m)\u001b[0m\u001b[0;34m)\u001b[0m\u001b[0;34m\u001b[0m\u001b[0;34m\u001b[0m\u001b[0m\n\u001b[1;32m      4\u001b[0m \u001b[0mpossible_m\u001b[0m\u001b[0;34m=\u001b[0m\u001b[0;34m[\u001b[0m\u001b[0;34m(\u001b[0m\u001b[0;34m-\u001b[0m\u001b[0;36m1\u001b[0m\u001b[0;34m,\u001b[0m\u001b[0;34m-\u001b[0m\u001b[0;36m1\u001b[0m\u001b[0;34m)\u001b[0m\u001b[0;34m,\u001b[0m\u001b[0;34m(\u001b[0m\u001b[0;34m-\u001b[0m\u001b[0;36m1\u001b[0m\u001b[0;34m,\u001b[0m\u001b[0;36m0\u001b[0m\u001b[0;34m)\u001b[0m\u001b[0;34m,\u001b[0m\u001b[0;34m(\u001b[0m\u001b[0;34m-\u001b[0m\u001b[0;36m1\u001b[0m\u001b[0;34m,\u001b[0m\u001b[0;36m1\u001b[0m\u001b[0;34m)\u001b[0m\u001b[0;34m,\u001b[0m\u001b[0;34m(\u001b[0m\u001b[0;36m0\u001b[0m\u001b[0;34m,\u001b[0m\u001b[0;34m-\u001b[0m\u001b[0;36m1\u001b[0m\u001b[0;34m)\u001b[0m\u001b[0;34m,\u001b[0m\u001b[0;34m(\u001b[0m\u001b[0;36m0\u001b[0m\u001b[0;34m,\u001b[0m\u001b[0;36m1\u001b[0m\u001b[0;34m)\u001b[0m\u001b[0;34m,\u001b[0m\u001b[0;34m(\u001b[0m\u001b[0;36m1\u001b[0m\u001b[0;34m,\u001b[0m\u001b[0;34m-\u001b[0m\u001b[0;36m1\u001b[0m\u001b[0;34m)\u001b[0m\u001b[0;34m,\u001b[0m\u001b[0;34m(\u001b[0m\u001b[0;36m1\u001b[0m\u001b[0;34m,\u001b[0m\u001b[0;36m0\u001b[0m\u001b[0;34m)\u001b[0m\u001b[0;34m,\u001b[0m\u001b[0;34m(\u001b[0m\u001b[0;36m1\u001b[0m\u001b[0;34m,\u001b[0m\u001b[0;36m1\u001b[0m\u001b[0;34m)\u001b[0m\u001b[0;34m]\u001b[0m\u001b[0;34m\u001b[0m\u001b[0;34m\u001b[0m\u001b[0m\n\u001b[1;32m      5\u001b[0m \u001b[0mmain\u001b[0m\u001b[0;34m=\u001b[0m\u001b[0;34m[\u001b[0m\u001b[0;34m]\u001b[0m\u001b[0;34m\u001b[0m\u001b[0;34m\u001b[0m\u001b[0m\n",
            "\u001b[0;32m/usr/local/lib/python3.11/dist-packages/ipykernel/kernelbase.py\u001b[0m in \u001b[0;36mraw_input\u001b[0;34m(self, prompt)\u001b[0m\n\u001b[1;32m   1175\u001b[0m                 \u001b[0;34m\"raw_input was called, but this frontend does not support input requests.\"\u001b[0m\u001b[0;34m\u001b[0m\u001b[0;34m\u001b[0m\u001b[0m\n\u001b[1;32m   1176\u001b[0m             )\n\u001b[0;32m-> 1177\u001b[0;31m         return self._input_request(\n\u001b[0m\u001b[1;32m   1178\u001b[0m             \u001b[0mstr\u001b[0m\u001b[0;34m(\u001b[0m\u001b[0mprompt\u001b[0m\u001b[0;34m)\u001b[0m\u001b[0;34m,\u001b[0m\u001b[0;34m\u001b[0m\u001b[0;34m\u001b[0m\u001b[0m\n\u001b[1;32m   1179\u001b[0m             \u001b[0mself\u001b[0m\u001b[0;34m.\u001b[0m\u001b[0m_parent_ident\u001b[0m\u001b[0;34m[\u001b[0m\u001b[0;34m\"shell\"\u001b[0m\u001b[0;34m]\u001b[0m\u001b[0;34m,\u001b[0m\u001b[0;34m\u001b[0m\u001b[0;34m\u001b[0m\u001b[0m\n",
            "\u001b[0;32m/usr/local/lib/python3.11/dist-packages/ipykernel/kernelbase.py\u001b[0m in \u001b[0;36m_input_request\u001b[0;34m(self, prompt, ident, parent, password)\u001b[0m\n\u001b[1;32m   1217\u001b[0m             \u001b[0;32mexcept\u001b[0m \u001b[0mKeyboardInterrupt\u001b[0m\u001b[0;34m:\u001b[0m\u001b[0;34m\u001b[0m\u001b[0;34m\u001b[0m\u001b[0m\n\u001b[1;32m   1218\u001b[0m                 \u001b[0;31m# re-raise KeyboardInterrupt, to truncate traceback\u001b[0m\u001b[0;34m\u001b[0m\u001b[0;34m\u001b[0m\u001b[0m\n\u001b[0;32m-> 1219\u001b[0;31m                 \u001b[0;32mraise\u001b[0m \u001b[0mKeyboardInterrupt\u001b[0m\u001b[0;34m(\u001b[0m\u001b[0;34m\"Interrupted by user\"\u001b[0m\u001b[0;34m)\u001b[0m \u001b[0;32mfrom\u001b[0m \u001b[0;32mNone\u001b[0m\u001b[0;34m\u001b[0m\u001b[0;34m\u001b[0m\u001b[0m\n\u001b[0m\u001b[1;32m   1220\u001b[0m             \u001b[0;32mexcept\u001b[0m \u001b[0mException\u001b[0m\u001b[0;34m:\u001b[0m\u001b[0;34m\u001b[0m\u001b[0;34m\u001b[0m\u001b[0m\n\u001b[1;32m   1221\u001b[0m                 \u001b[0mself\u001b[0m\u001b[0;34m.\u001b[0m\u001b[0mlog\u001b[0m\u001b[0;34m.\u001b[0m\u001b[0mwarning\u001b[0m\u001b[0;34m(\u001b[0m\u001b[0;34m\"Invalid Message:\"\u001b[0m\u001b[0;34m,\u001b[0m \u001b[0mexc_info\u001b[0m\u001b[0;34m=\u001b[0m\u001b[0;32mTrue\u001b[0m\u001b[0;34m)\u001b[0m\u001b[0;34m\u001b[0m\u001b[0;34m\u001b[0m\u001b[0m\n",
            "\u001b[0;31mKeyboardInterrupt\u001b[0m: Interrupted by user"
          ]
        }
      ]
    },
    {
      "cell_type": "code",
      "source": [
        "#task7\n",
        "def gcd(a,b):\n",
        "    while b:a,b=b,a%b\n",
        "    return a\n",
        "def gra(A):\n",
        "    gra=[[] for i in range(A+1)]\n",
        "    for i in range(1,A+1):\n",
        "        for j in range(1, A+1):\n",
        "            if i!=j and gcd(i,j)==1:\n",
        "                gra[i].append(j)\n",
        "    return gra\n",
        "def main(A,B,u_i):\n",
        "    g=gra(A)\n",
        "    temp=[]\n",
        "    for i,j in u_i:\n",
        "        n=sorted(g[i])\n",
        "        temp.append(n[j-1] if j<=len(n) else-1)\n",
        "    return temp\n",
        "A,B=map(int,input().split())\n",
        "u_i=[]\n",
        "for i in range(B):\n",
        "    query=tuple(map(int, input().split()))\n",
        "    u_i.append(query)\n",
        "temp=main(A, B, u_i)\n",
        "print(*temp,sep='\\n')"
      ],
      "metadata": {
        "colab": {
          "base_uri": "https://localhost:8080/"
        },
        "id": "CF3IP7sCSHOS",
        "outputId": "b14c56e8-9010-4639-97ef-204e225c9a6c"
      },
      "execution_count": null,
      "outputs": [
        {
          "output_type": "stream",
          "name": "stdout",
          "text": [
            "2 1\n",
            "2 1\n",
            "1\n"
          ]
        }
      ]
    },
    {
      "cell_type": "code",
      "source": [],
      "metadata": {
        "id": "y3yxirRAMOm5"
      },
      "execution_count": null,
      "outputs": []
    }
  ]
}
