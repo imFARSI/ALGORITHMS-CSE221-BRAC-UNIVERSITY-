{
  "nbformat": 4,
  "nbformat_minor": 0,
  "metadata": {
    "colab": {
      "provenance": []
    },
    "kernelspec": {
      "name": "python3",
      "display_name": "Python 3"
    },
    "language_info": {
      "name": "python"
    }
  },
  "cells": [
    {
      "cell_type": "code",
      "source": [
        "#task-1\n",
        "n,m=map(int,input().split())\n",
        "g=[]\n",
        "for i in range(n+1):\n",
        " g.append([])\n",
        "d=[]\n",
        "for i in range(n+1):\n",
        " d.append(0)\n",
        "for i in range(m):\n",
        " a,b=map(int,input().split())\n",
        " g[a].append(b)\n",
        " d[b]+=1\n",
        "q=[]\n",
        "for i in range(1,n+1):\n",
        " if d[i]==0:\n",
        "  q.append(i)\n",
        "r=[]\n",
        "i=0\n",
        "while i<len(q):\n",
        " x=q[i]\n",
        " i+=1\n",
        " r.append(x)\n",
        " for y in g[x]:\n",
        "  d[y]-=1\n",
        "  if d[y]==0:\n",
        "   q.append(y)\n",
        "if len(r)<n:\n",
        " print(-1)\n",
        "else:\n",
        " print(*r)\n",
        "\n"
      ],
      "metadata": {
        "colab": {
          "base_uri": "https://localhost:8080/"
        },
        "id": "2LBqA2C9LLSV",
        "outputId": "f0fbfb76-c370-4ce4-c9c9-d4d74a1576f7"
      },
      "execution_count": null,
      "outputs": [
        {
          "output_type": "stream",
          "name": "stdout",
          "text": [
            "2 1\n",
            "1 2\n",
            "1 2\n"
          ]
        }
      ]
    },
    {
      "cell_type": "code",
      "source": [
        "#task-2\n",
        "n,m=map(int,input().split())\n",
        "g=[]\n",
        "for i in range(n+1):\n",
        " g.append([])\n",
        "for i in range(m):\n",
        " u,v=map(int,input().split())\n",
        " g[u].append(v)\n",
        " g[v].append(u)\n",
        "v=[]\n",
        "for i in range(n+1):\n",
        " v.append(-1)\n",
        "a=0\n",
        "for i in range(1,n+1):\n",
        " if v[i]==-1:\n",
        "  s=[i]\n",
        "  v[i]=0\n",
        "  x=1\n",
        "  y=0\n",
        "  j=0\n",
        "  while j<len(s):\n",
        "   u=s[j]\n",
        "   j+=1\n",
        "   for k in g[u]:\n",
        "    if v[k]==-1:\n",
        "     v[k]=1-v[u]\n",
        "     s.append(k)\n",
        "     if v[k]==0:\n",
        "      x+=1\n",
        "     else:\n",
        "      y+=1\n",
        "  a+=max(x,y)\n",
        "print(a)\n"
      ],
      "metadata": {
        "colab": {
          "base_uri": "https://localhost:8080/"
        },
        "id": "-1-XOJv7NbA0",
        "outputId": "dda3a107-4395-4d77-9374-08f828ee8f04"
      },
      "execution_count": null,
      "outputs": [
        {
          "output_type": "stream",
          "name": "stdout",
          "text": [
            "4 1\n",
            "1 3\n",
            "3\n"
          ]
        }
      ]
    },
    {
      "cell_type": "code",
      "source": [
        "#task-3\n",
        "from collections import deque\n",
        "n=int(input())\n",
        "x1,y1,x2,y2=map(int,input().split())\n",
        "m=[(-2,-1),(-1,-2),(1,-2),(2,-1),(2,1),(1,2),(-1,2),(-2,1)]\n",
        "v=[[0]*n for _ in range(n)]\n",
        "q=deque()\n",
        "q.append((x1-1,y1-1,0))\n",
        "v[x1-1][y1-1]=1\n",
        "while q:\n",
        " x,y,c=q.popleft()\n",
        " if x==x2-1 and y==y2-1:\n",
        "  print(c)\n",
        "  exit()\n",
        " for dx,dy in m:\n",
        "  a=x+dx\n",
        "  b=y+dy\n",
        "  if 0<=a<n and 0<=b<n and v[a][b]==0:\n",
        "   v[a][b]=1\n",
        "   q.append((a,b,c+1))\n",
        "print(-1)\n"
      ],
      "metadata": {
        "colab": {
          "base_uri": "https://localhost:8080/"
        },
        "id": "-YDP5IHIN0ua",
        "outputId": "624dce1b-4702-4d31-86a5-7ce023e222b9"
      },
      "execution_count": null,
      "outputs": [
        {
          "output_type": "stream",
          "name": "stdout",
          "text": [
            "3\n",
            "1 1 2 2\n",
            "-1\n"
          ]
        }
      ]
    },
    {
      "cell_type": "code",
      "source": [
        "#task-4\n",
        "n,r=map(int,input().split())\n",
        "g=[[]for i in range(n+1)]\n",
        "for j in range(n-1):\n",
        " u,v=map(int,input().split())\n",
        " g[u].append(v)\n",
        " g[v].append(u)\n",
        "s=[0]*(n+1)\n",
        "v=[0]*(n+1)\n",
        "st=[(r,0)]\n",
        "order=[]\n",
        "while st:\n",
        " x,p=st.pop()\n",
        " if v[x]==0:\n",
        "  v[x]=p\n",
        "  order.append(x)\n",
        "  for y in g[x]:\n",
        "   if y!=p:\n",
        "    st.append((y,x))\n",
        "for x in reversed(order):\n",
        " s[x]=1\n",
        " for y in g[x]:\n",
        "  if y!=v[x]:\n",
        "   s[x]+=s[y]\n",
        "q=int(input())\n",
        "for _ in range(q):\n",
        " x=int(input())\n",
        " print(s[x])\n"
      ],
      "metadata": {
        "id": "ymtGL9T2OOfZ"
      },
      "execution_count": null,
      "outputs": []
    },
    {
      "cell_type": "code",
      "source": [
        "#task-5\n",
        "n=int(input())\n",
        "g=[[]for _ in range(n+1)]\n",
        "for _ in range(n-1):\n",
        " u,v=map(int,input().split())\n",
        " g[u].append(v)\n",
        " g[v].append(u)\n",
        "def bfs(s):\n",
        " d=[-1]*(n+1)\n",
        " d[s]=0\n",
        " q=[s]\n",
        " for x in q:\n",
        "  for y in g[x]:\n",
        "   if d[y]==-1:\n",
        "    d[y]=d[x]+1\n",
        "    q.append(y)\n",
        " m=max(d)\n",
        " return d.index(m),m\n",
        "a,_=bfs(1)\n",
        "b,d=bfs(a)\n",
        "print(d)\n",
        "print(a,b)\n",
        "\n"
      ],
      "metadata": {
        "id": "0c5Ne9XzrrkP"
      },
      "execution_count": null,
      "outputs": []
    },
    {
      "cell_type": "code",
      "source": [
        "#taask-6\n",
        "n=int(input())\n",
        "w=[input()for i in range(n)]\n",
        "g=[set()for j in range(26)]\n",
        "d=[0]*26\n",
        "use=[0]*26\n",
        "for i in range(n-1):\n",
        "    a,b=w[i],w[i+1]\n",
        "    if len(a)>len(b)and a.startswith(b):\n",
        "        print(-1)\n",
        "        exit()\n",
        "    for x,y in zip(a,b):\n",
        "        if x!=y:\n",
        "            u,v=ord(x)-97,ord(y)-97\n",
        "            if v not in g[u]:\n",
        "                g[u].add(v)\n",
        "                d[v]+=1\n",
        "            break\n",
        "for word in w:\n",
        "    for c in word:\n",
        "        use[ord(c)-97]=1\n",
        "q=[i for i in range(26)if use[i]and d[i]==0]\n",
        "q.sort()\n",
        "res=[]\n",
        "while q:\n",
        "    u=q.pop(0)\n",
        "    res.append(chr(u+97))\n",
        "    for v in g[u]:\n",
        "        d[v]-=1\n",
        "        if d[v]==0:\n",
        "            q.append(v)\n",
        "        q.sort()\n",
        "print(''.join(res)if len(res)==sum(use)else -1)\n"
      ],
      "metadata": {
        "colab": {
          "base_uri": "https://localhost:8080/"
        },
        "id": "QndoEKoUr7xh",
        "outputId": "94eb05ba-ff42-4162-8757-13a5ab12ca66"
      },
      "execution_count": null,
      "outputs": [
        {
          "output_type": "stream",
          "name": "stdout",
          "text": [
            "2\n",
            "pigeon\n",
            "pigeons\n",
            "eginops\n"
          ]
        }
      ]
    },
    {
      "cell_type": "code",
      "source": [],
      "metadata": {
        "id": "L6NZGKkrs6c3"
      },
      "execution_count": null,
      "outputs": []
    },
    {
      "cell_type": "code",
      "source": [],
      "metadata": {
        "id": "DkCxoUhYrEI8"
      },
      "execution_count": null,
      "outputs": []
    }
  ]
}
