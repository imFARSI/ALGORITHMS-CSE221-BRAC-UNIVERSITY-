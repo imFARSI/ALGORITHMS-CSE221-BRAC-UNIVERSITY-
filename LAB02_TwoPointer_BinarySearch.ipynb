{
  "nbformat": 4,
  "nbformat_minor": 0,
  "metadata": {
    "colab": {
      "provenance": []
    },
    "kernelspec": {
      "name": "python3",
      "display_name": "Python 3"
    },
    "language_info": {
      "name": "python"
    }
  },
  "cells": [
    {
      "cell_type": "code",
      "execution_count": null,
      "metadata": {
        "colab": {
          "base_uri": "https://localhost:8080/"
        },
        "id": "wOkzO7CfCvqi",
        "outputId": "d45860ab-619d-45ee-8ffc-867b51fcae4a"
      },
      "outputs": [
        {
          "output_type": "stream",
          "name": "stdout",
          "text": [
            "4 10\n",
            "2 4 6 7\n",
            "2 3\n"
          ]
        }
      ],
      "source": [
        "def find_two_sum(N, S, arr):\n",
        "    l=0\n",
        "    r=N -1\n",
        "    while l<r:\n",
        "        current_sum=arr[l]+arr[r]\n",
        "        if current_sum==S:\n",
        "            print(l+ 1, r+ 1)\n",
        "            return\n",
        "        elif current_sum<S:\n",
        "            l+=1\n",
        "        else:\n",
        "            r-=1\n",
        "\n",
        "    print(-1)\n",
        "N, S = map(int, input().split())\n",
        "arr = list(map(int, input().split()))\n",
        "find_two_sum(N, S, arr)\n"
      ]
    },
    {
      "cell_type": "code",
      "source": [
        "def merge_sorted_lists(N, alice, M, bob):\n",
        "    idx_a, idx_b=0, 0\n",
        "    merged_list=[]\n",
        "    while idx_a<N and idx_b<M:\n",
        "        if alice[idx_a]<=bob[idx_b]:\n",
        "            merged_list.append(alice[idx_a])\n",
        "            idx_a+=1\n",
        "        else:\n",
        "            merged_list.append(bob[idx_b])\n",
        "            idx_b+=1\n",
        "    while idx_a<N:\n",
        "        merged_list.append(alice[idx_a])\n",
        "        idx_a+=1\n",
        "    while idx_b<M:\n",
        "        merged_list.append(bob[idx_b])\n",
        "        idx_b+=1\n",
        "    print(\" \".join(map(str, merged_list)))\n",
        "N =int(input())\n",
        "alice=list(map(int, input().split()))\n",
        "M =int(input())\n",
        "bob=list(map(int, input().split()))\n",
        "merge_sorted_lists(N, alice, M, bob)\n"
      ],
      "metadata": {
        "colab": {
          "base_uri": "https://localhost:8080/"
        },
        "id": "K5gF3qilFxio",
        "outputId": "05e686db-04b0-4c3f-ab73-06031928246c"
      },
      "execution_count": null,
      "outputs": [
        {
          "output_type": "stream",
          "name": "stdout",
          "text": [
            "8\n",
            "1 2 3 8 8 10 12 14\n",
            "9\n",
            "1 1 4 5 6 8 13 15 16\n",
            "1 1 1 2 3 4 5 6 8 8 8 10 12 13 14 15 16\n"
          ]
        }
      ]
    },
    {
      "cell_type": "code",
      "source": [
        "def longest_subarray(N, K, arr):\n",
        "    start=0\n",
        "    sum_current=0\n",
        "    max_len=0\n",
        "    for end in range(N):\n",
        "        sum_current+=arr[end]\n",
        "        while sum_current>K and start<=end:\n",
        "            sum_current-=arr[start]\n",
        "            start+=1\n",
        "        max_len=max(max_len, end-start+1)\n",
        "    print(max_len)\n",
        "N, K=map(int, input().split())\n",
        "arr=list(map(int, input().split()))\n",
        "longest_subarray(N, K, arr)\n"
      ],
      "metadata": {
        "colab": {
          "base_uri": "https://localhost:8080/"
        },
        "id": "ZIk6wD7FHDOh",
        "outputId": "f5535a5a-f48b-43f2-c6b4-4cf8782806a4"
      },
      "execution_count": null,
      "outputs": [
        {
          "output_type": "stream",
          "name": "stdout",
          "text": [
            "3 1 \n",
            "2 3 4\n",
            "0\n"
          ]
        }
      ]
    },
    {
      "cell_type": "code",
      "source": [],
      "metadata": {
        "id": "mvAdgJ9rRwRk"
      },
      "execution_count": null,
      "outputs": []
    },
    {
      "cell_type": "code",
      "source": [
        "def bin(S):\n",
        "    l, r=0, len(S)-1\n",
        "    while l<=r:\n",
        "        mid=(l+r)//2\n",
        "        if S[mid]=='1':\n",
        "            r=mid-1\n",
        "        else:\n",
        "            l=mid + 1\n",
        "    print(l+1 if l<len(S) else -1)\n",
        "T=int(input().strip())\n",
        "for i in range(T):\n",
        "    S=input().strip()\n",
        "    bin(S)\n"
      ],
      "metadata": {
        "colab": {
          "base_uri": "https://localhost:8080/",
          "height": 460
        },
        "id": "ppKuDZNMKTHy",
        "outputId": "3349f39a-e50f-4d86-c85e-acbbb5b7be98"
      },
      "execution_count": null,
      "outputs": [
        {
          "output_type": "stream",
          "name": "stdout",
          "text": [
            "15\n",
            "0000011111111\n",
            "6\n",
            "0000000000000111111111111111111111\n",
            "14\n",
            "0000000000000001\n",
            "16\n"
          ]
        },
        {
          "output_type": "error",
          "ename": "KeyboardInterrupt",
          "evalue": "Interrupted by user",
          "traceback": [
            "\u001b[0;31m---------------------------------------------------------------------------\u001b[0m",
            "\u001b[0;31mKeyboardInterrupt\u001b[0m                         Traceback (most recent call last)",
            "\u001b[0;32m<ipython-input-17-c4fd37a08b17>\u001b[0m in \u001b[0;36m<cell line: 0>\u001b[0;34m()\u001b[0m\n\u001b[1;32m     10\u001b[0m \u001b[0mT\u001b[0m\u001b[0;34m=\u001b[0m\u001b[0mint\u001b[0m\u001b[0;34m(\u001b[0m\u001b[0minput\u001b[0m\u001b[0;34m(\u001b[0m\u001b[0;34m)\u001b[0m\u001b[0;34m.\u001b[0m\u001b[0mstrip\u001b[0m\u001b[0;34m(\u001b[0m\u001b[0;34m)\u001b[0m\u001b[0;34m)\u001b[0m\u001b[0;34m\u001b[0m\u001b[0;34m\u001b[0m\u001b[0m\n\u001b[1;32m     11\u001b[0m \u001b[0;32mfor\u001b[0m \u001b[0mi\u001b[0m \u001b[0;32min\u001b[0m \u001b[0mrange\u001b[0m\u001b[0;34m(\u001b[0m\u001b[0mT\u001b[0m\u001b[0;34m)\u001b[0m\u001b[0;34m:\u001b[0m\u001b[0;34m\u001b[0m\u001b[0;34m\u001b[0m\u001b[0m\n\u001b[0;32m---> 12\u001b[0;31m     \u001b[0mS\u001b[0m\u001b[0;34m=\u001b[0m\u001b[0minput\u001b[0m\u001b[0;34m(\u001b[0m\u001b[0;34m)\u001b[0m\u001b[0;34m.\u001b[0m\u001b[0mstrip\u001b[0m\u001b[0;34m(\u001b[0m\u001b[0;34m)\u001b[0m\u001b[0;34m\u001b[0m\u001b[0;34m\u001b[0m\u001b[0m\n\u001b[0m\u001b[1;32m     13\u001b[0m     \u001b[0mbin\u001b[0m\u001b[0;34m(\u001b[0m\u001b[0mS\u001b[0m\u001b[0;34m)\u001b[0m\u001b[0;34m\u001b[0m\u001b[0;34m\u001b[0m\u001b[0m\n",
            "\u001b[0;32m/usr/local/lib/python3.11/dist-packages/ipykernel/kernelbase.py\u001b[0m in \u001b[0;36mraw_input\u001b[0;34m(self, prompt)\u001b[0m\n\u001b[1;32m   1175\u001b[0m                 \u001b[0;34m\"raw_input was called, but this frontend does not support input requests.\"\u001b[0m\u001b[0;34m\u001b[0m\u001b[0;34m\u001b[0m\u001b[0m\n\u001b[1;32m   1176\u001b[0m             )\n\u001b[0;32m-> 1177\u001b[0;31m         return self._input_request(\n\u001b[0m\u001b[1;32m   1178\u001b[0m             \u001b[0mstr\u001b[0m\u001b[0;34m(\u001b[0m\u001b[0mprompt\u001b[0m\u001b[0;34m)\u001b[0m\u001b[0;34m,\u001b[0m\u001b[0;34m\u001b[0m\u001b[0;34m\u001b[0m\u001b[0m\n\u001b[1;32m   1179\u001b[0m             \u001b[0mself\u001b[0m\u001b[0;34m.\u001b[0m\u001b[0m_parent_ident\u001b[0m\u001b[0;34m[\u001b[0m\u001b[0;34m\"shell\"\u001b[0m\u001b[0;34m]\u001b[0m\u001b[0;34m,\u001b[0m\u001b[0;34m\u001b[0m\u001b[0;34m\u001b[0m\u001b[0m\n",
            "\u001b[0;32m/usr/local/lib/python3.11/dist-packages/ipykernel/kernelbase.py\u001b[0m in \u001b[0;36m_input_request\u001b[0;34m(self, prompt, ident, parent, password)\u001b[0m\n\u001b[1;32m   1217\u001b[0m             \u001b[0;32mexcept\u001b[0m \u001b[0mKeyboardInterrupt\u001b[0m\u001b[0;34m:\u001b[0m\u001b[0;34m\u001b[0m\u001b[0;34m\u001b[0m\u001b[0m\n\u001b[1;32m   1218\u001b[0m                 \u001b[0;31m# re-raise KeyboardInterrupt, to truncate traceback\u001b[0m\u001b[0;34m\u001b[0m\u001b[0;34m\u001b[0m\u001b[0m\n\u001b[0;32m-> 1219\u001b[0;31m                 \u001b[0;32mraise\u001b[0m \u001b[0mKeyboardInterrupt\u001b[0m\u001b[0;34m(\u001b[0m\u001b[0;34m\"Interrupted by user\"\u001b[0m\u001b[0;34m)\u001b[0m \u001b[0;32mfrom\u001b[0m \u001b[0;32mNone\u001b[0m\u001b[0;34m\u001b[0m\u001b[0;34m\u001b[0m\u001b[0m\n\u001b[0m\u001b[1;32m   1220\u001b[0m             \u001b[0;32mexcept\u001b[0m \u001b[0mException\u001b[0m\u001b[0;34m:\u001b[0m\u001b[0;34m\u001b[0m\u001b[0;34m\u001b[0m\u001b[0m\n\u001b[1;32m   1221\u001b[0m                 \u001b[0mself\u001b[0m\u001b[0;34m.\u001b[0m\u001b[0mlog\u001b[0m\u001b[0;34m.\u001b[0m\u001b[0mwarning\u001b[0m\u001b[0;34m(\u001b[0m\u001b[0;34m\"Invalid Message:\"\u001b[0m\u001b[0;34m,\u001b[0m \u001b[0mexc_info\u001b[0m\u001b[0;34m=\u001b[0m\u001b[0;32mTrue\u001b[0m\u001b[0;34m)\u001b[0m\u001b[0;34m\u001b[0m\u001b[0;34m\u001b[0m\u001b[0m\n",
            "\u001b[0;31mKeyboardInterrupt\u001b[0m: Interrupted by user"
          ]
        }
      ]
    },
    {
      "cell_type": "code",
      "source": [
        "def count_in_range(size, queries_count, nums, query_list):\n",
        "    def find_lower(nums, val):\n",
        "        left, right=0,len(nums)\n",
        "        while left<right:\n",
        "            mid=(left+right)//2\n",
        "            if nums[mid]<val:\n",
        "                left=mid+1\n",
        "            else:\n",
        "                right=mid\n",
        "        return left\n",
        "    def find_upper(nums, val):\n",
        "        left, right=0, len(nums)\n",
        "        while left<right:\n",
        "            mid=(left+right)//2\n",
        "            if nums[mid]<=val:\n",
        "                left=mid+1\n",
        "            else:\n",
        "                right=mid\n",
        "        return left\n",
        "    for low, high in query_list:\n",
        "        print(find_upper(nums, high)-find_lower(nums, low))\n",
        "size, queries_count=map(int, input().split())\n",
        "nums = list(map(int, input().split()))\n",
        "query_list=[tuple(map(int, input().split())) for i in range(queries_count)]\n",
        "count_in_range(size, queries_count, nums, query_list)\n"
      ],
      "metadata": {
        "colab": {
          "base_uri": "https://localhost:8080/"
        },
        "id": "bG-3QQuWRxiv",
        "outputId": "a723ac70-a804-4ad9-bf26-4dd9b2cc2da0"
      },
      "execution_count": null,
      "outputs": [
        {
          "output_type": "stream",
          "name": "stdout",
          "text": [
            "5 3\n",
            "10 20 20 45 79\n",
            "20 50\n",
            "5 45\n",
            "1 100\n",
            "3\n",
            "4\n",
            "5\n"
          ]
        }
      ]
    }
  ]
}
