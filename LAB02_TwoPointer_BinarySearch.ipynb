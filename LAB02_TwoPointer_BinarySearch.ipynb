{
  "nbformat": 4,
  "nbformat_minor": 0,
  "metadata": {
    "colab": {
      "provenance": []
    },
    "kernelspec": {
      "name": "python3",
      "display_name": "Python 3"
    },
    "language_info": {
      "name": "python"
    }
  },
  "cells": [
    {
      "cell_type": "code",
      "execution_count": null,
      "metadata": {
        "id": "wOkzO7CfCvqi"
      },
      "outputs": [],
      "source": [
        "def find_two_sum(N, S, arr):\n",
        "    l=0\n",
        "    r=N -1\n",
        "    while l<r:\n",
        "        current_sum=arr[l]+arr[r]\n",
        "        if current_sum==S:\n",
        "            print(l+ 1, r+ 1)\n",
        "            return\n",
        "        elif current_sum<S:\n",
        "            l+=1\n",
        "        else:\n",
        "            r-=1\n",
        "\n",
        "    print(-1)\n",
        "N, S = map(int, input().split())\n",
        "arr = list(map(int, input().split()))\n",
        "find_two_sum(N, S, arr)\n"
      ]
    },
    {
      "cell_type": "code",
      "source": [
        "def merge_sorted_lists(N, alice, M, bob):\n",
        "    idx_a, idx_b=0, 0\n",
        "    merged_list=[]\n",
        "    while idx_a<N and idx_b<M:\n",
        "        if alice[idx_a]<=bob[idx_b]:\n",
        "            merged_list.append(alice[idx_a])\n",
        "            idx_a+=1\n",
        "        else:\n",
        "            merged_list.append(bob[idx_b])\n",
        "            idx_b+=1\n",
        "    while idx_a<N:\n",
        "        merged_list.append(alice[idx_a])\n",
        "        idx_a+=1\n",
        "    while idx_b<M:\n",
        "        merged_list.append(bob[idx_b])\n",
        "        idx_b+=1\n",
        "    print(\" \".join(map(str, merged_list)))\n",
        "N =int(input())\n",
        "alice=list(map(int, input().split()))\n",
        "M =int(input())\n",
        "bob=list(map(int, input().split()))\n",
        "merge_sorted_lists(N, alice, M, bob)\n"
      ],
      "metadata": {
        "id": "K5gF3qilFxio"
      },
      "execution_count": null,
      "outputs": []
    },
    {
      "cell_type": "code",
      "source": [
        "def longest_subarray(N, K, arr):\n",
        "    start=0\n",
        "    sum_current=0\n",
        "    max_len=0\n",
        "    for end in range(N):\n",
        "        sum_current+=arr[end]\n",
        "        while sum_current>K and start<=end:\n",
        "            sum_current-=arr[start]\n",
        "            start+=1\n",
        "        max_len=max(max_len, end-start+1)\n",
        "    print(max_len)\n",
        "N, K=map(int, input().split())\n",
        "arr=list(map(int, input().split()))\n",
        "longest_subarray(N, K, arr)\n"
      ],
      "metadata": {
        "id": "ZIk6wD7FHDOh"
      },
      "execution_count": null,
      "outputs": []
    },
    {
      "cell_type": "code",
      "source": [],
      "metadata": {
        "id": "mvAdgJ9rRwRk"
      },
      "execution_count": null,
      "outputs": []
    },
    {
      "cell_type": "code",
      "source": [
        "def bin(S):\n",
        "    l, r=0, len(S)-1\n",
        "    while l<=r:\n",
        "        mid=(l+r)//2\n",
        "        if S[mid]=='1':\n",
        "            r=mid-1\n",
        "        else:\n",
        "            l=mid + 1\n",
        "    print(l+1 if l<len(S) else -1)\n",
        "T=int(input().strip())\n",
        "for i in range(T):\n",
        "    S=input().strip()\n",
        "    bin(S)\n"
      ],
      "metadata": {
        "id": "ppKuDZNMKTHy"
      },
      "execution_count": null,
      "outputs": []
    },
    {
      "cell_type": "code",
      "source": [
        "def count_in_range(size, queries_count, nums, query_list):\n",
        "    def find_lower(nums, val):\n",
        "        left, right=0,len(nums)\n",
        "        while left<right:\n",
        "            mid=(left+right)//2\n",
        "            if nums[mid]<val:\n",
        "                left=mid+1\n",
        "            else:\n",
        "                right=mid\n",
        "        return left\n",
        "    def find_upper(nums, val):\n",
        "        left, right=0, len(nums)\n",
        "        while left<right:\n",
        "            mid=(left+right)//2\n",
        "            if nums[mid]<=val:\n",
        "                left=mid+1\n",
        "            else:\n",
        "                right=mid\n",
        "        return left\n",
        "    for low, high in query_list:\n",
        "        print(find_upper(nums, high)-find_lower(nums, low))\n",
        "size, queries_count=map(int, input().split())\n",
        "nums = list(map(int, input().split()))\n",
        "query_list=[tuple(map(int, input().split())) for i in range(queries_count)]\n",
        "count_in_range(size, queries_count, nums, query_list)\n"
      ],
      "metadata": {
        "id": "bG-3QQuWRxiv"
      },
      "execution_count": null,
      "outputs": []
    }
  ]
}
