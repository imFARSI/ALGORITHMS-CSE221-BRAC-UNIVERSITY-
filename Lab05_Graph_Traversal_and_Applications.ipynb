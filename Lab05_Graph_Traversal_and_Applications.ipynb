{
  "nbformat": 4,
  "nbformat_minor": 0,
  "metadata": {
    "colab": {
      "provenance": []
    },
    "kernelspec": {
      "name": "python3",
      "display_name": "Python 3"
    },
    "language_info": {
      "name": "python"
    }
  },
  "cells": [
    {
      "cell_type": "code",
      "source": [
        "#task 1\n",
        "a,b=map(int,input().split())\n",
        "c=[]\n",
        "d=0\n",
        "while d<a+1:\n",
        "\tc.append([])\n",
        "\td+=1\n",
        "e=0\n",
        "while e<b:\n",
        "\tf,g=map(int,input().split())\n",
        "\tc[f].append(g)\n",
        "\tc[g].append(f)\n",
        "\te+=1\n",
        "h=[0]*(a+1)\n",
        "i=[1]\n",
        "h[1]=1\n",
        "j=0\n",
        "while j<len(i):\n",
        "\tk=i[j]\n",
        "\tj+=1\n",
        "\tl=0\n",
        "\twhile l<len(c[k]):\n",
        "\t\tm=c[k][l]\n",
        "\t\tif h[m]==0:\n",
        "\t\t\th[m]=1\n",
        "\t\t\ti.append(m)\n",
        "\t\tl+=1\n",
        "print(*i)\n"
      ],
      "metadata": {
        "colab": {
          "base_uri": "https://localhost:8080/"
        },
        "id": "fefF9mb5NL-L",
        "outputId": "b0dd37dc-7df2-468f-8412-cc5ab91975e2"
      },
      "execution_count": null,
      "outputs": [
        {
          "output_type": "stream",
          "name": "stdout",
          "text": [
            "4 3\n",
            "1 4\n",
            "3 2\n",
            "1 3\n",
            "1 4 3 2\n"
          ]
        }
      ]
    },
    {
      "cell_type": "code",
      "source": [
        "#TASK 2\n",
        "import sys\n",
        "sys.setrecursionlimit(2*100000+5)\n",
        "def t(g,s,v,o):\n",
        "    v[s]=True\n",
        "    o.append(s)\n",
        "    for n in sorted(g[s]):\n",
        "        if not v[n]:\n",
        "            t(g,n,v,o)\n",
        "n,m=map(int,input().split())\n",
        "g=[[]for _ in range(n+1)]\n",
        "x=list(map(int,input().split()))\n",
        "y=list(map(int,input().split()))\n",
        "for i in range(m):\n",
        "    g[x[i]].append(y[i])\n",
        "    g[y[i]].append(x[i])\n",
        "v=[False]*(n+1)\n",
        "o=[]\n",
        "t(g,1,v,o)\n",
        "print(*o)\n"
      ],
      "metadata": {
        "colab": {
          "base_uri": "https://localhost:8080/"
        },
        "id": "1IQVe4uPMXuT",
        "outputId": "6595add8-d9f1-457a-9431-7a79cabf83d5"
      },
      "execution_count": null,
      "outputs": [
        {
          "output_type": "stream",
          "name": "stdout",
          "text": [
            "6 8\n",
            "1 5 3 4 6 1 6 4\n",
            "5 3 4 6 2 3 3 1\n",
            "1 3 4 6 2 5\n"
          ]
        }
      ]
    },
    {
      "cell_type": "code",
      "source": [
        "#task 3\n",
        "n,m,s,d=map(int,input().split())\n",
        "a=list(map(int,input().split()))\n",
        "b=list(map(int,input().split()))\n",
        "g=[[]for _ in range(n+1)]\n",
        "for i in range(m):\n",
        "    g[a[i]].append(b[i])\n",
        "    g[b[i]].append(a[i])\n",
        "for i in range(1,n+1):\n",
        "    g[i].sort()\n",
        "v=[0]*(n+1)\n",
        "p=[-1]*(n+1)\n",
        "q=[0]*n*2\n",
        "f=0\n",
        "r=0\n",
        "q[r]=s\n",
        "r+=1\n",
        "v[s]=1\n",
        "while f<r:\n",
        "    x=q[f]\n",
        "    f+=1\n",
        "    if x==d:\n",
        "        break\n",
        "    for y in g[x]:\n",
        "        if v[y]==0:\n",
        "            v[y]=1\n",
        "            p[y]=x\n",
        "            q[r]=y\n",
        "            r+=1\n",
        "if v[d]==0:\n",
        "    print(-1)\n",
        "else:\n",
        "    path=[]\n",
        "    while d!=-1:\n",
        "        path.append(d)\n",
        "        d=p[d]\n",
        "    path.reverse()\n",
        "    print(len(path)-1)\n",
        "    print(*path)"
      ],
      "metadata": {
        "colab": {
          "base_uri": "https://localhost:8080/"
        },
        "id": "m4bn4Wj5OMpk",
        "outputId": "a523a0e1-3c75-44fa-c9b5-9e2d0ddfaa48"
      },
      "execution_count": null,
      "outputs": [
        {
          "output_type": "stream",
          "name": "stdout",
          "text": [
            "1 0 1 1\n",
            "\n",
            "\n",
            "0\n",
            "1\n"
          ]
        }
      ]
    },
    {
      "cell_type": "markdown",
      "source": [
        "8 7 3 2\n",
        "7 7 3 2 2 8 5\n",
        "2 6 7 4 1 4 1"
      ],
      "metadata": {
        "id": "1XnP5-B2AFRX"
      }
    },
    {
      "cell_type": "code",
      "source": [
        "#task 4\n",
        "n,m,s,d,k=map(int,input().split())\n",
        "adj=[[]for i in range(n+1)]\n",
        "for _ in range(m):\n",
        "    a,b=map(int,input().split())\n",
        "    adj[a].append(b)\n",
        "def bfs(start):\n",
        "    mark=[0]*(n+1)\n",
        "    prev=[-1]*(n+1)\n",
        "    q=[0]*n*2\n",
        "    l=0\n",
        "    r=0\n",
        "    q[r]= start\n",
        "    r+=1\n",
        "    mark[start]=1\n",
        "    while l<r:\n",
        "        cur=q[l]\n",
        "        l+=1\n",
        "        for nex in adj[cur]:\n",
        "            if mark[nex]==0:\n",
        "                mark[nex]=1\n",
        "                prev[nex]=cur\n",
        "                q[r]=nex\n",
        "                r+=1\n",
        "    return mark,prev\n",
        "m1,p1 =bfs(s)\n",
        "m2,p2=bfs(k)\n",
        "if m1[k]==0 or m2[d]==0:\n",
        "    print(-1)\n",
        "else:\n",
        "    res= []\n",
        "    t=k\n",
        "    while t!=-1:\n",
        "        res.append(t)\n",
        "        t=p1[t]\n",
        "    res.reverse()\n",
        "    t=d\n",
        "    tmp =[]\n",
        "    while t!=-1:\n",
        "        tmp.append(t)\n",
        "        t=p2[t]\n",
        "    tmp.reverse()\n",
        "    for i in range(1,len(tmp)):\n",
        "        res.append(tmp[i])\n",
        "    print(len(res)-1)\n",
        "    print(*res)\n",
        "\n"
      ],
      "metadata": {
        "colab": {
          "base_uri": "https://localhost:8080/"
        },
        "id": "1RDhhxUiTa45",
        "outputId": "70369a36-c14e-4864-e4db-54984dc2e83f"
      },
      "execution_count": null,
      "outputs": [
        {
          "output_type": "stream",
          "name": "stdout",
          "text": [
            "5 4 2 5 3\n",
            "5 1\n",
            "3 1\n",
            "2 3\n",
            "2 4\n",
            "-1\n"
          ]
        }
      ]
    },
    {
      "cell_type": "code",
      "source": [
        "#tasjk 5\n",
        "a,b=map(int,input().split())\n",
        "z=[[]for _ in range(a+1)]\n",
        "for i in range(b):\n",
        "    p,q=map(int,input().split())\n",
        "    z[p].append(q)\n",
        "s=[0]*(a+1)\n",
        "def f(x):\n",
        "    s[x]=1\n",
        "    for y in z[x]:\n",
        "        if s[y]==0:\n",
        "            if f(y):\n",
        "                return 1\n",
        "        elif s[y]==1:\n",
        "            return 1\n",
        "    s[x]=2\n",
        "    return 0\n",
        "r=0\n",
        "for i in range(1,a+1):\n",
        "    if s[i]==0:\n",
        "        if f(i):\n",
        "            r=1\n",
        "            break\n",
        "if r:\n",
        "    print(\"YES\")\n",
        "else:\n",
        "    print(\"NO\")\n"
      ],
      "metadata": {
        "colab": {
          "base_uri": "https://localhost:8080/"
        },
        "id": "E1_a6d5xAkRs",
        "outputId": "537bca26-6788-4027-be1f-f2d035ebdccd"
      },
      "execution_count": null,
      "outputs": [
        {
          "output_type": "stream",
          "name": "stdout",
          "text": [
            "4 7\n",
            "1 3\n",
            "1 2\n",
            "2 4\n",
            "3 1\n",
            "2 3\n",
            "4 3\n",
            "4 1\n",
            "YES\n"
          ]
        }
      ]
    },
    {
      "cell_type": "code",
      "source": [
        "#task 6\n",
        "import sys\n",
        "sys.setrecursionlimit(10**7)\n",
        "r,c=map(int,input().split())\n",
        "g=[list(input())for _ in range(r)]\n",
        "v=[[0]*c for i in range(r)]\n",
        "dx=[-1,1,0,0]\n",
        "dy=[0,0,-1,1]\n",
        "def dfs(x,y):\n",
        "    v[x][y]=1\n",
        "    cnt=1 if g[x][y]=='D' else 0\n",
        "    for i in range(4):\n",
        "        nx=x+dx[i]\n",
        "        ny=y+dy[i]\n",
        "        if 0<=nx<r and 0<=ny<c:\n",
        "            if g[nx][ny]!='#' and v[nx][ny]==0:\n",
        "                cnt+=dfs(nx,ny)\n",
        "    return cnt\n",
        "ans=0\n",
        "for i in range(r):\n",
        "    for j in range(c):\n",
        "        if g[i][j]!='#' and v[i][j]==0:\n",
        "            ans=max(ans,dfs(i,j))\n",
        "print(ans)\n"
      ],
      "metadata": {
        "colab": {
          "base_uri": "https://localhost:8080/"
        },
        "id": "jOCRrimjKs6Z",
        "outputId": "69a1cf40-46ae-4d49-e1e8-39cf0f2077b4"
      },
      "execution_count": null,
      "outputs": [
        {
          "output_type": "stream",
          "name": "stdout",
          "text": [
            "9 11\n",
            ".#..D...D..\n",
            ".#.#######.\n",
            "D#.#..D..#.\n",
            "D#D#.###.#D\n",
            ".#.#..D#.#.\n",
            ".#.#####.#D\n",
            "D#..D...D#.\n",
            ".#########.\n",
            "...D..D...D\n",
            "15\n"
          ]
        }
      ]
    },
    {
      "cell_type": "code",
      "source": [
        "import sys\n",
        "sys.setrecursionlimit(10**7)\n",
        "x,y= map(int,input().split())\n",
        "z = [list(input())for i in range(x)]\n",
        "b = [[0]*y for j in range(x)]\n",
        "p = [-1,1,0,0]\n",
        "q = [0,0,-1,1]\n",
        "def k(i,j):\n",
        "    b[i][j]=1\n",
        "    s = 1 if z[i][j] == 'D'else 0\n",
        "    for t in range(4):\n",
        "        ni = i+p[t]\n",
        "        nj = j+q[t]\n",
        "        if 0<=ni<x and 0<=nj<y:\n",
        "            if z[ni][nj]! = '#':\n",
        "                if b[ni][nj] == 0:\n",
        "                    s+=k(ni,nj)\n",
        "    return s\n",
        "w=0\n",
        "for i in range(x):\n",
        "    for j in range(y):\n",
        "        if z[i][j]!='#':\n",
        "            if b[i][j]==0:\n",
        "                r = k(i,j)\n",
        "                if r>w:\n",
        "                    w = r\n",
        "print(w)\n"
      ],
      "metadata": {
        "id": "oOF2i6H-OtM0"
      },
      "execution_count": null,
      "outputs": []
    }
  ]
}
