{
  "nbformat": 4,
  "nbformat_minor": 0,
  "metadata": {
    "colab": {
      "provenance": []
    },
    "kernelspec": {
      "name": "python3",
      "display_name": "Python 3"
    },
    "language_info": {
      "name": "python"
    }
  },
  "cells": [
    {
      "cell_type": "code",
      "execution_count": 1,
      "metadata": {
        "colab": {
          "base_uri": "https://localhost:8080/"
        },
        "id": "EdJMo7Bwls9O",
        "outputId": "a3377e63-bb31-4d87-cf95-31d712d12d79"
      },
      "outputs": [
        {
          "output_type": "stream",
          "name": "stdout",
          "text": [
            "5\n",
            "7\n",
            "7 is an Odd number.\n",
            "6\n",
            "6 is an Even number.\n",
            "6\n",
            "6 is an Even number.\n",
            "5\n",
            "5 is an Odd number.\n",
            "6\n",
            "6 is an Even number.\n"
          ]
        }
      ],
      "source": [
        "#TASK-a\n",
        "T=int(input())\n",
        "for i in range(T):\n",
        "    N=int(input())\n",
        "    if (N//2)*2==N:\n",
        "        print(f\"{N} is an Even number.\")\n",
        "    else:\n",
        "        print(f\"{N} is an Odd number.\")"
      ]
    },
    {
      "cell_type": "code",
      "source": [
        "#task-B\n",
        "T=int(input())\n",
        "for i in range(T):\n",
        "    e=input().split()\n",
        "    first=int(e[1])\n",
        "    operator=e[2]\n",
        "    second=int(e[3])\n",
        "    if operator=='+':\n",
        "        result=first+second\n",
        "    elif operator=='-':\n",
        "        result=first-second\n",
        "    elif operator=='*':\n",
        "        result=first*second\n",
        "    else:\n",
        "        result=first/second\n",
        "    print(\"{:.6f}\".format(result))"
      ],
      "metadata": {
        "id": "RrlqfqYtmEd7"
      },
      "execution_count": null,
      "outputs": []
    },
    {
      "cell_type": "code",
      "source": [
        "#TASK-C\n",
        "a=list(map(int, input().split()))[:2]\n",
        "K=a[1]\n",
        "new=list(map(int, input().split()))[:K]\n",
        "new1=[]\n",
        "for i in range(K-1,0,-1):\n",
        "    new1.append(new[i])\n",
        "new1.append(new[0])\n",
        "for i in new1:\n",
        "    print(i, end=' ')\n",
        "print()\n"
      ],
      "metadata": {
        "id": "IOboDuAlmUzG"
      },
      "execution_count": null,
      "outputs": []
    },
    {
      "cell_type": "code",
      "source": [
        "#TASK-D\n",
        "T=int(input())\n",
        "for i in range(T):\n",
        "    N=int(input())\n",
        "    sum_result=N*(N+1)//2\n",
        "    print(sum_result)"
      ],
      "metadata": {
        "id": "CXqQJuhqmcVH"
      },
      "execution_count": null,
      "outputs": []
    },
    {
      "cell_type": "code",
      "source": [
        "#TASK-E\n",
        "def bubbleSort(arr):\n",
        "    n=len(arr)\n",
        "    for i in range(n-1):\n",
        "        swapped=False\n",
        "        for j in range(n-i-1):\n",
        "            if arr[j]>arr[j + 1]:\n",
        "                arr[j], arr[j+1]=arr[j+1], arr[j]\n",
        "                swapped=True\n",
        "        if not swapped:\n",
        "            break\n",
        "N=int(input())\n",
        "arr=list(map(int, input().split()))\n",
        "bubbleSort(arr)\n",
        "for num in arr:\n",
        "    print(num, end=\" \")"
      ],
      "metadata": {
        "id": "u1WREnjDmk8J"
      },
      "execution_count": null,
      "outputs": []
    },
    {
      "cell_type": "code",
      "source": [
        "#TASK-F\n",
        "def sort(N, ids, marks):\n",
        "    students=[(ids[i], marks[i]) for i in range(N)]\n",
        "    swap_count=0\n",
        "    for i in range(N):\n",
        "        max_idx=i\n",
        "        for j in range(i + 1, N):\n",
        "            if (students[j][1]>students[max_idx][1]) or \\\n",
        "               (students[j][1]==students[max_idx][1] and students[j][0] < students[max_idx][0]):\n",
        "                max_idx=j\n",
        "        if max_idx!=i:\n",
        "            students[i], students[max_idx] = students[max_idx], students[i]\n",
        "            swap_count+=1\n",
        "    print(f\"Minimum swaps: {swap_count}\")\n",
        "    for student in students:\n",
        "        print(f\"ID: {student[0]} Mark: {student[1]}\")\n",
        "N=int(input())\n",
        "ids=list(map(int, input().split()))\n",
        "marks=list(map(int, input().split()))\n",
        "sort(N, ids, marks)"
      ],
      "metadata": {
        "id": "Bk2Clt6Zms7h"
      },
      "execution_count": null,
      "outputs": []
    },
    {
      "cell_type": "code",
      "source": [
        "#TASK-G\n",
        "def convert_time_to_minutes(time_str):\n",
        "    hours, minutes=map(int, time_str.split(':'))\n",
        "    return hours*60 + minutes\n",
        "def bubble_sort(trains):\n",
        "    n=len(trains)\n",
        "    for i in range(n):\n",
        "        for j in range(n - i - 1):\n",
        "            name1, time1, index1, _=trains[j]\n",
        "            name2, time2, index2, _=trains[j + 1]\n",
        "            if (name1 > name2) or (name1==name2 and time1 < time2):\n",
        "                trains[j], trains[j + 1]=trains[j + 1], trains[j]\n",
        "n = int(input().strip())\n",
        "trains=[]\n",
        "for i in range(n):\n",
        "    line=input().strip()\n",
        "    parts=line.split()\n",
        "    name=parts[0]\n",
        "    time_str=parts[-1]\n",
        "    time_in_minutes=convert_time_to_minutes(time_str)\n",
        "    trains.append((name, time_in_minutes, i, line))\n",
        "bubble_sort(trains)\n",
        "for train in trains:\n",
        "    print(train[3])"
      ],
      "metadata": {
        "id": "KWIKWIo6mywg"
      },
      "execution_count": null,
      "outputs": []
    }
  ]
}
