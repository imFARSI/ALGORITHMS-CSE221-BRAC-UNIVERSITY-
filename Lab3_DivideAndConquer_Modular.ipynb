{
  "nbformat": 4,
  "nbformat_minor": 0,
  "metadata": {
    "colab": {
      "provenance": []
    },
    "kernelspec": {
      "name": "python3",
      "display_name": "Python 3"
    },
    "language_info": {
      "name": "python"
    }
  },
  "cells": [
    {
      "cell_type": "code",
      "execution_count": null,
      "metadata": {
        "id": "NvShcAz8qUmR"
      },
      "outputs": [],
      "source": [
        "#TASK-A\n",
        "def merge(l, r):\n",
        "    m=[]\n",
        "    i =j=k =0\n",
        "    while i<len(l) and j<len(r):\n",
        "        if l[i]<=r[j]:\n",
        "            m.append(l[i])\n",
        "            i+=1\n",
        "        else:\n",
        "            m.append(r[j])\n",
        "            k+=len(l)-i\n",
        "            j +=1\n",
        "    while i<len(l):\n",
        "        m.append(l[i])\n",
        "        i+=1\n",
        "    while j<len(r):\n",
        "        m.append(r[j])\n",
        "        j+=1\n",
        "    return m, k\n",
        "def mergeSort(a):\n",
        "    if len(a)<=1:\n",
        "        return a, 0\n",
        "    mid=len(a)//2\n",
        "    l_sorted, l_k=mergeSort(a[:mid])\n",
        "    r_sorted, r_k=mergeSort(a[mid:])\n",
        "    m, m_k=merge(l_sorted, r_sorted)\n",
        "    return m, l_k+r_k +m_k\n",
        "n = int(input())\n",
        "a = list(map(int, input().split()))\n",
        "sorted_a, k=mergeSort(a)\n",
        "print(k)\n",
        "print(\" \".join(map(str, sorted_a)))"
      ]
    },
    {
      "cell_type": "code",
      "source": [
        "#TASK-B\n",
        "def max_pair_sum(arr):\n",
        "    n=len(arr)\n",
        "    def solve(start,end):\n",
        "        if end-start<1:\n",
        "            return float('-inf')\n",
        "        if end-start==1:\n",
        "            return arr[start]+arr[end]**2\n",
        "        mid=(start+end)//2\n",
        "        left_max=solve(start,mid)\n",
        "        right_max=solve(mid+1,end)\n",
        "        cross_max=float('-inf')\n",
        "        max_left=float('-inf')\n",
        "        for i in range(start,mid+1):\n",
        "            max_left=max(max_left,arr[i])\n",
        "        for j in range(mid+1,end+1):\n",
        "            cross_max=max(cross_max,max_left+arr[j]**2)\n",
        "        return max(left_max,right_max,cross_max)\n",
        "    return solve(0,n-1)\n",
        "n=int(input())\n",
        "arr=list(map(int,input().split()))\n",
        "result=max_pair_sum(arr)\n",
        "print(result)"
      ],
      "metadata": {
        "id": "jyeyQexsqvjn"
      },
      "execution_count": null,
      "outputs": []
    },
    {
      "cell_type": "code",
      "source": [
        "#TASK-C\n",
        "def fast_mod_drift(a, b):\n",
        "    result=1\n",
        "    a%=107\n",
        "    while b>0:\n",
        "        if b%2==1:\n",
        "            result=(result * a) % 107\n",
        "        a=(a*a)%107\n",
        "        b//=2\n",
        "\n",
        "    return result\n",
        "if __name__ == \"__main__\":\n",
        "    a, b =map(int, input().split())\n",
        "    result=fast_mod_drift(a, b)\n",
        "    print(result)"
      ],
      "metadata": {
        "id": "Ob7FDcs6q2pe"
      },
      "execution_count": null,
      "outputs": []
    },
    {
      "cell_type": "code",
      "source": [
        "#TASK-D\n",
        "def mod_exp(a,b,m):\n",
        " result=1\n",
        " a=a%m\n",
        " while b>0:\n",
        "  if b%2==1:\n",
        "   result=(result*a)%m\n",
        "  a=(a*a)%m\n",
        "  b=b//2\n",
        " return result\n",
        "\n",
        "def sum_powers(a,n,m):\n",
        " if n==1:\n",
        "  return a%m\n",
        " if n%2==0:\n",
        "  half_sum=sum_powers(a,n//2,m)\n",
        "  term=mod_exp(a,n//2,m)\n",
        "  return (half_sum*(1+term))%m\n",
        " else:\n",
        "  return (sum_powers(a,n-1,m)+mod_exp(a,n,m))%m\n",
        "\n",
        "def solve():\n",
        " T=int(input())\n",
        " for _ in range(T):\n",
        "  a,n,m=map(int,input().split())\n",
        "  print(sum_powers(a,n,m))\n",
        "\n",
        "solve()\n"
      ],
      "metadata": {
        "id": "VxckX159q8Ov"
      },
      "execution_count": null,
      "outputs": []
    },
    {
      "cell_type": "code",
      "source": [
        "#TASK-E\n",
        "def find_optimal_order(arr):\n",
        "   result=[]\n",
        "\n",
        "   def build_optimal_order(low,high):\n",
        "       if low>high:\n",
        "           return\n",
        "\n",
        "       mid=(low+high)//2\n",
        "       result.append(arr[mid])\n",
        "       build_optimal_order(low,mid-1)\n",
        "       build_optimal_order(mid+1,high)\n",
        "   build_optimal_order(0,len(arr)-1)\n",
        "   return result\n",
        "\n",
        "n=int(input())\n",
        "arr=list(map(int,input().split()))\n",
        "optimal_order=find_optimal_order(arr)\n",
        "print(\" \".join(map(str,optimal_order)))"
      ],
      "metadata": {
        "id": "kwslGw5WrCl4"
      },
      "execution_count": null,
      "outputs": []
    }
  ]
}
